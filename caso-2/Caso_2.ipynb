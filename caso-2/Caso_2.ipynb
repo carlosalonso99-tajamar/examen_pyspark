{
 "cells": [
  {
   "cell_type": "markdown",
   "metadata": {
    "application/vnd.databricks.v1+cell": {
     "cellMetadata": {},
     "inputWidgets": {},
     "nuid": "7bc88472-0819-44bb-a870-05c265cca4c5",
     "showTitle": false,
     "tableResultSettingsMap": {},
     "title": ""
    }
   },
   "source": [
    "# Encontrando insights de la UEFA Champions League"
   ]
  },
  {
   "cell_type": "markdown",
   "metadata": {
    "application/vnd.databricks.v1+cell": {
     "cellMetadata": {},
     "inputWidgets": {},
     "nuid": "dec9c196-3f29-444f-a2f7-13e3827b29ef",
     "showTitle": false,
     "tableResultSettingsMap": {},
     "title": ""
    }
   },
   "source": [
    "La Liga de Campeones de la UEFA, a menudo llamada Liga de Campeones, es una competencia anual de fútbol por excelencia que cautiva a los fanáticos de todo el mundo. Establecida en 1955 como la Copa de Clubes Campeones de Europa, evolucionó a la Liga de Campeones de la UEFA en 1992, ampliando su atractivo. El formato moderno cuenta con 32 equipos de clubes de primer nivel seleccionados en función de su desempeño en la liga nacional, lo que aumenta la intriga.  \n",
    "\n",
    "Este evento electrizante trasciende los deportes y se convierte en una celebración de la unidad, la cultura y el orgullo nacional. Los fanáticos, vestidos con los colores de sus países, crean una atmósfera eléctrica, lo que hace que el torneo sea tanto sobre los espectadores como sobre los jugadores. Financieramente, la Liga de Campeones es un salvavidas para los clubes, ya que aumenta los ingresos y ofrece oportunidades transformadoras. Sin embargo, genera debates sobre las disparidades de riqueza en el fútbol europeo.  \n",
    "\n",
    "La Liga de Campeones es sinónimo de rivalidades históricas, triunfos de los desvalidos y brillantez individual. Para los jugadores, representa la cima de su carrera, mientras que para los fanáticos, es un fenómeno cultural. El himno y los rituales icónicos enriquecen la experiencia futbolística. En 200 palabras, la UEFA Champions League es el epítome de la excelencia del fútbol europeo, que ofrece momentos inolvidables, recompensas económicas y un impacto cultural único, con 32 clubes de primer nivel que se suman a su atractivo."
   ]
  },
  {
   "cell_type": "markdown",
   "metadata": {
    "application/vnd.databricks.v1+cell": {
     "cellMetadata": {},
     "inputWidgets": {},
     "nuid": "3ff8fe53-6686-4ae2-8c5b-662e85535ff5",
     "showTitle": false,
     "tableResultSettingsMap": {},
     "title": ""
    }
   },
   "source": [
    "**Nombres de las tablas o ficheros a utilizar**:  \n",
    "[uefa_2020.csv](https://tajamar365.sharepoint.com/:x:/s/3405-MasterIA2024-2025/EQuW8d16tZJKpYZN6jR480sBgc1IYypAw9hGHKQARS560g?e=7TybBU)  \n",
    "[uefa_2021.csv](https://tajamar365.sharepoint.com/:x:/s/3405-MasterIA2024-2025/ESG8YBrjD3tBky3aGT0MwIABNt_PQxFVVYVlWMnZYUmV8g?e=VrYHtX)  \n",
    "[uefa_2022.csv](https://tajamar365.sharepoint.com/:x:/s/3405-MasterIA2024-2025/Ecf8O8U8sxJLoW9Bkd2ZVzgBb_gZc35mNcprnR9FMlzliQ?e=Vn3a6v)  \n",
    "- Todas las tablas tienen las mismas columnas y data types"
   ]
  },
  {
   "cell_type": "markdown",
   "metadata": {
    "application/vnd.databricks.v1+cell": {
     "cellMetadata": {},
     "inputWidgets": {},
     "nuid": "910b06ac-21ef-4f0c-bb95-9611f90d7635",
     "showTitle": false,
     "tableResultSettingsMap": {},
     "title": ""
    }
   },
   "source": [
    "| Column | Definition | Data type |\n",
    "|--------|------------|-----------|\n",
    "| `STAGE`| Stage of the March | `VARCHAR(50)` |\n",
    "| `DATE` | When the match occurred. | `DATE` |\n",
    "| `PENS` | Did the match end with penalty | `VARCHAR(50)` |\n",
    "| `PENS_HOME_SCORE` | In case of penalty, score by home team | `VARCHAR(50)` |\n",
    "| `PENS_AWAY_SCORE` | In case of penalty, score by away team | `VARCHAR(50)` |\n",
    "| `TEAM_NAME_HOME` | Team home name | `VARCHAR(50)` |\n",
    "| `TEAM_NAME_AWAY`| Team away  name | `VARCHAR(50)` |\n",
    "| `TEAM_HOME_SCORE` | Team home score | `NUMBER` |\n",
    "| `TEAM_AWAY_SCORE` | Team away score | `NUMBER` |\n",
    "| `POSSESSION_HOME` | Ball possession for the home team | `FLOAT` |\n",
    "| `POSSESSION_AWAY` | Ball possession for the away team | `FLOAT` |\n",
    "| `TOTAL_SHOTS_HOME` | Number of shots by the home team | `NUMBER` |\n",
    "| `TOTAL_SHOTS_AWAY` | Number of shots by the away team | `NUMBER`\n",
    "| `SHOTS_ON_TARGET_HOME` | Total shot for home team | `FLOAT` |\n",
    "| `SHOTS_ON_TARGET_AWAY` | Total shot for away team | `FLOAT` |\n",
    "| `DUELS_WON_HOME` | duel win possession of ball - for home team | `NUMBER` |\n",
    "| `DUELS_WON_AWAY` | duel win possession of ball - for away team | `NUMBER` \n",
    "| `PREDICTION_TEAM_HOME_WIN` | Probability of home team to win | `FLOAT` |\n",
    "| `PREDICTION_DRAW` | Probability of draw | `FLOAT` |\n",
    "| `PREDICTION_TEAM_AWAY_WIN` | Probability of away team to win | `FLOAT` |\n",
    "| `LOCATION` | Stadium where the match was held | `VARCHAR(50)` |"
   ]
  },
  {
   "cell_type": "code",
   "execution_count": 0,
   "metadata": {
    "application/vnd.databricks.v1+cell": {
     "cellMetadata": {
      "byteLimit": 2048000,
      "rowLimit": 10000
     },
     "inputWidgets": {},
     "nuid": "c63a4a29-176a-4e21-9121-439c670d96e8",
     "showTitle": false,
     "tableResultSettingsMap": {},
     "title": ""
    }
   },
   "outputs": [],
   "source": [
    "df_22 = spark.read.format(\"csv\").option(\"header\", \"true\").load(\"dbfs:/FileStore/shared_uploads/carlosalonsomingo@gmail.com/uefa_2022.csv\")\n",
    "df_21 = spark.read.format(\"csv\").option(\"header\", \"true\").load(\"dbfs:/FileStore/shared_uploads/carlosalonsomingo@gmail.com/uefa_2021.csv\")\n",
    "df_20 = spark.read.format(\"csv\").option(\"header\", \"true\").load(\"dbfs:/FileStore/shared_uploads/carlosalonsomingo@gmail.com/uefa_2020.csv\")"
   ]
  },
  {
   "cell_type": "markdown",
   "metadata": {
    "application/vnd.databricks.v1+cell": {
     "cellMetadata": {},
     "inputWidgets": {},
     "nuid": "b6ed3067-8a31-45a7-9120-766336560fef",
     "showTitle": false,
     "tableResultSettingsMap": {},
     "title": ""
    }
   },
   "source": [
    "### Requerimientos:  \n",
    "-Puedes utilizar SQL o PySpark"
   ]
  },
  {
   "cell_type": "markdown",
   "metadata": {
    "application/vnd.databricks.v1+cell": {
     "cellMetadata": {},
     "inputWidgets": {},
     "nuid": "96872dad-7ed6-4372-84e9-763aa2d6c83f",
     "showTitle": false,
     "tableResultSettingsMap": {},
     "title": ""
    }
   },
   "source": [
    "1. Encuentra los 3 equipos que anotaron más goles jugando en su estadio en la UEFA Champions League 2020-21. El resultado debe contener dos columnas: TEAM_NAME_HOME y TEAM_HOME_SCORE ordenadas en orden descendente de TEAM_HOME_SCORE. Guarda la consulta (o el notebook) como TEAM_HOME_WITH_MOST_GOALS."
   ]
  },
  {
   "cell_type": "code",
   "execution_count": 0,
   "metadata": {
    "application/vnd.databricks.v1+cell": {
     "cellMetadata": {
      "byteLimit": 2048000,
      "rowLimit": 10000
     },
     "inputWidgets": {},
     "nuid": "d4d7fbca-0861-4dd6-bff5-4ef92822323f",
     "showTitle": false,
     "tableResultSettingsMap": {},
     "title": ""
    }
   },
   "outputs": [
    {
     "output_type": "display_data",
     "data": {
      "text/html": [
       "<style scoped>\n",
       "  .table-result-container {\n",
       "    max-height: 300px;\n",
       "    overflow: auto;\n",
       "  }\n",
       "  table, th, td {\n",
       "    border: 1px solid black;\n",
       "    border-collapse: collapse;\n",
       "  }\n",
       "  th, td {\n",
       "    padding: 5px;\n",
       "  }\n",
       "  th {\n",
       "    text-align: left;\n",
       "  }\n",
       "</style><div class='table-result-container'><table class='table-result'><thead style='background-color: white'><tr><th>TEAM_NAME_HOME</th><th>TEAM_HOME_SCORE</th></tr></thead><tbody><tr><td> Manchester City </td><td>15.0</td></tr><tr><td> Real Madrid </td><td>14.0</td></tr><tr><td> Bayern Munich </td><td>13.0</td></tr></tbody></table></div>"
      ]
     },
     "metadata": {
      "application/vnd.databricks.v1+output": {
       "addedWidgets": {},
       "aggData": [],
       "aggError": "",
       "aggOverflow": false,
       "aggSchema": [],
       "aggSeriesLimitReached": false,
       "aggType": "",
       "arguments": {},
       "columnCustomDisplayInfos": {},
       "data": [
        [
         " Manchester City ",
         15.0
        ],
        [
         " Real Madrid ",
         14.0
        ],
        [
         " Bayern Munich ",
         13.0
        ]
       ],
       "datasetInfos": [],
       "dbfsResultPath": null,
       "isJsonSchema": true,
       "metadata": {},
       "overflow": false,
       "plotOptions": {
        "customPlotOptions": {},
        "displayType": "table",
        "pivotAggregation": null,
        "pivotColumns": null,
        "xColumns": null,
        "yColumns": null
       },
       "removedWidgets": [],
       "schema": [
        {
         "metadata": "{}",
         "name": "TEAM_NAME_HOME",
         "type": "\"string\""
        },
        {
         "metadata": "{}",
         "name": "TEAM_HOME_SCORE",
         "type": "\"double\""
        }
       ],
       "type": "table"
      }
     },
     "output_type": "display_data"
    }
   ],
   "source": [
    "from pyspark.sql import functions as F \n",
    "\n",
    "df1_TEAM_HOME_WITH_MOST_GOALS = df_20.groupBy(\n",
    "    \"TEAM_NAME_HOME\",\n",
    ").agg(\n",
    "    F.sum(F.col(\"TEAM_HOME_SCORE\")).alias(\"TEAM_HOME_SCORE\")\n",
    ").orderBy(F.desc(\"TEAM_HOME_SCORE\")).limit(3)\n",
    "df1_TEAM_HOME_WITH_MOST_GOALS.display()"
   ]
  },
  {
   "cell_type": "markdown",
   "metadata": {
    "application/vnd.databricks.v1+cell": {
     "cellMetadata": {},
     "inputWidgets": {},
     "nuid": "b375e92e-5c96-4ee8-8c35-29b8e7ab887f",
     "showTitle": false,
     "tableResultSettingsMap": {},
     "title": ""
    }
   },
   "source": [
    "2. Encuentra el equipo con posesión mayoritaria la mayor cantidad de veces durante la UEFA Champions League 2021-22. El resultado debe incluir dos columnas: TEAM_NAME y GAME_COUNT, que es la cantidad de veces que el equipo tuvo posesión mayoritaria durante un partido de fútbol. Guarda esta consulta (o el notebook) como TEAM_WITH_MAJORITY_POSSESSION"
   ]
  },
  {
   "cell_type": "code",
   "execution_count": 0,
   "metadata": {
    "application/vnd.databricks.v1+cell": {
     "cellMetadata": {
      "byteLimit": 2048000,
      "rowLimit": 10000
     },
     "inputWidgets": {},
     "nuid": "26ea211d-e590-48f4-b8e0-7e556501799c",
     "showTitle": false,
     "tableResultSettingsMap": {},
     "title": ""
    }
   },
   "outputs": [
    {
     "output_type": "display_data",
     "data": {
      "text/html": [
       "<style scoped>\n",
       "  .table-result-container {\n",
       "    max-height: 300px;\n",
       "    overflow: auto;\n",
       "  }\n",
       "  table, th, td {\n",
       "    border: 1px solid black;\n",
       "    border-collapse: collapse;\n",
       "  }\n",
       "  th, td {\n",
       "    padding: 5px;\n",
       "  }\n",
       "  th {\n",
       "    text-align: left;\n",
       "  }\n",
       "</style><div class='table-result-container'><table class='table-result'><thead style='background-color: white'><tr><th>TEAM_NAME_HOME</th><th>GAME_COUNT</th></tr></thead><tbody><tr><td>Liverpool</td><td>9</td></tr></tbody></table></div>"
      ]
     },
     "metadata": {
      "application/vnd.databricks.v1+output": {
       "addedWidgets": {},
       "aggData": [],
       "aggError": "",
       "aggOverflow": false,
       "aggSchema": [],
       "aggSeriesLimitReached": false,
       "aggType": "",
       "arguments": {},
       "columnCustomDisplayInfos": {},
       "data": [
        [
         "Liverpool",
         9
        ]
       ],
       "datasetInfos": [],
       "dbfsResultPath": null,
       "isJsonSchema": true,
       "metadata": {},
       "overflow": false,
       "plotOptions": {
        "customPlotOptions": {},
        "displayType": "table",
        "pivotAggregation": null,
        "pivotColumns": null,
        "xColumns": null,
        "yColumns": null
       },
       "removedWidgets": [],
       "schema": [
        {
         "metadata": "{}",
         "name": "TEAM_NAME_HOME",
         "type": "\"string\""
        },
        {
         "metadata": "{}",
         "name": "GAME_COUNT",
         "type": "\"long\""
        }
       ],
       "type": "table"
      }
     },
     "output_type": "display_data"
    }
   ],
   "source": [
    "#Vamos ha hacer primero el calculo de cuantos han ganado la posesion cuando es local\n",
    "\n",
    "df_poss_local = (df_21.groupBy(\"TEAM_NAME_HOME\")\n",
    "                 .agg(F.sum(\n",
    "                     (F.split(F.col(\"POSSESSION_HOME\"), '%')[0].cast(\"int\") > 50).cast(\"int\")\n",
    "                 ).alias(\"count_poss_greater_than_50\"))\n",
    "                )\n",
    "\n",
    "# df_poss_local.display()\n",
    "#luego vamos a calcularlo para el visitante\n",
    "\n",
    "df_poss_visitante = (df_21.groupBy(\"TEAM_NAME_AWAY\")\n",
    "                 .agg(F.sum(\n",
    "                     (F.split(F.col(\"POSSESSION_AWAY\"), '%')[0].cast(\"int\") > 50).cast(\"int\")\n",
    "                 ).alias(\"count_poss_greater_than_50\"))\n",
    "                )\n",
    "\n",
    "\n",
    "#Unimos los los dataframes\n",
    "combined_df = df_poss_local.union(df_poss_visitante)\n",
    "#Agrupamos sumando\n",
    "TEAM_WITH_MAJORITY_POSSESSION_df = (combined_df.groupBy(\"TEAM_NAME_HOME\")\n",
    "               .agg(F.sum(F.col(\"count_poss_greater_than_50\")).alias(\"GAME_COUNT\"))\n",
    "               .orderBy(F.col(\"GAME_COUNT\").desc())).limit(1)\n",
    "TEAM_WITH_MAJORITY_POSSESSION_df.display()\n"
   ]
  },
  {
   "cell_type": "markdown",
   "metadata": {
    "application/vnd.databricks.v1+cell": {
     "cellMetadata": {},
     "inputWidgets": {},
     "nuid": "7c960a38-f12d-4b88-aaad-b70de0c2323f",
     "showTitle": false,
     "tableResultSettingsMap": {},
     "title": ""
    }
   },
   "source": [
    "3. Encuentra la lista de equipos de cada fase del juego que ganaron el duelo en un partido pero terminaron perdiendo el juego en el Campeonato de la UEFA 2022-23. El resultado debe contener dos columnas: STAGE y TEAM_LOST. Guarda la consulta (o el notebook) como TEAM_WON_DUEL_LOST_GAME_STAGE_WISE."
   ]
  },
  {
   "cell_type": "code",
   "execution_count": 0,
   "metadata": {
    "application/vnd.databricks.v1+cell": {
     "cellMetadata": {
      "byteLimit": 2048000,
      "rowLimit": 10000
     },
     "inputWidgets": {},
     "nuid": "5b5a904a-58be-4e45-8a29-d16b3b8fa65f",
     "showTitle": false,
     "tableResultSettingsMap": {},
     "title": ""
    }
   },
   "outputs": [
    {
     "output_type": "display_data",
     "data": {
      "text/html": [
       "<style scoped>\n",
       "  .table-result-container {\n",
       "    max-height: 300px;\n",
       "    overflow: auto;\n",
       "  }\n",
       "  table, th, td {\n",
       "    border: 1px solid black;\n",
       "    border-collapse: collapse;\n",
       "  }\n",
       "  th, td {\n",
       "    padding: 5px;\n",
       "  }\n",
       "  th {\n",
       "    text-align: left;\n",
       "  }\n",
       "</style><div class='table-result-container'><table class='table-result'><thead style='background-color: white'><tr><th>STAGE</th><th>CASE WHEN (looser = away) THEN collect_list(TEAM_NAME_AWAY) ELSE collect_list(TEAM_NAME_HOME) END</th></tr></thead><tbody><tr><td> Group stage: Matchday 5 </td><td>List(Real Madrid, K�benhavn, Juventus, Maccabi Haifa, Rangers, Viktoria Plze?, Marseille)</td></tr><tr><td> Group stage: Matchday 6 </td><td>List(Napoli, Atletico Madrid, Internazionale, Salzburg, Dinamo Zagreb)</td></tr><tr><td> Group stage: Matchday 3 </td><td>List(Rangers, Atletico Madrid, Bayer Leverkusen, Viktoria Plze?, Barcelona, Sporting CP, Dinamo Zagreb, AC Milan, Celtic, K�benhavn, Maccabi Haifa)</td></tr><tr><td> Group stage: Matchday 1 </td><td>List(Chelsea, K�benhavn, Juventus, Maccabi Haifa, Rangers, Liverpool, Porto, Bayer Leverkusen, Viktoria Plze?, Marseille)</td></tr><tr><td>Group stage: Matchday 6 </td><td>List(Celtic, Sevilla)</td></tr><tr><td> Semi-finals second leg </td><td>List(Real Madrid, Milan)</td></tr><tr><td> Quarter-finals first leg </td><td>List(Napoli, Chelsea)</td></tr><tr><td> Round of 16 second leg </td><td>List(Paris Saint-Germain, Dortmund, Eintracht Frankfurt, Liverpool, Leipzig)</td></tr><tr><td> Group stage: Matchday 4 </td><td>List(Juventus, Ajax, Eintracht Frankfurt)</td></tr><tr><td> Round of 16 first leg </td><td>List(Chelsea, Tottenham, FC Porto)</td></tr><tr><td> Group stage: Matchday 2 </td><td>List(Ajax, Atletico Madrid, Barcelona, Tottenham Hotspur, RB Leipzig)</td></tr><tr><td> Final </td><td>List(Inter)</td></tr></tbody></table></div>"
      ]
     },
     "metadata": {
      "application/vnd.databricks.v1+output": {
       "addedWidgets": {},
       "aggData": [],
       "aggError": "",
       "aggOverflow": false,
       "aggSchema": [],
       "aggSeriesLimitReached": false,
       "aggType": "",
       "arguments": {},
       "columnCustomDisplayInfos": {},
       "data": [
        [
         " Group stage: Matchday 5 ",
         [
          "Real Madrid",
          "K�benhavn",
          "Juventus",
          "Maccabi Haifa",
          "Rangers",
          "Viktoria Plze?",
          "Marseille"
         ]
        ],
        [
         " Group stage: Matchday 6 ",
         [
          "Napoli",
          "Atletico Madrid",
          "Internazionale",
          "Salzburg",
          "Dinamo Zagreb"
         ]
        ],
        [
         " Group stage: Matchday 3 ",
         [
          "Rangers",
          "Atletico Madrid",
          "Bayer Leverkusen",
          "Viktoria Plze?",
          "Barcelona",
          "Sporting CP",
          "Dinamo Zagreb",
          "AC Milan",
          "Celtic",
          "K�benhavn",
          "Maccabi Haifa"
         ]
        ],
        [
         " Group stage: Matchday 1 ",
         [
          "Chelsea",
          "K�benhavn",
          "Juventus",
          "Maccabi Haifa",
          "Rangers",
          "Liverpool",
          "Porto",
          "Bayer Leverkusen",
          "Viktoria Plze?",
          "Marseille"
         ]
        ],
        [
         "Group stage: Matchday 6 ",
         [
          "Celtic",
          "Sevilla"
         ]
        ],
        [
         " Semi-finals second leg ",
         [
          "Real Madrid",
          "Milan"
         ]
        ],
        [
         " Quarter-finals first leg ",
         [
          "Napoli",
          "Chelsea"
         ]
        ],
        [
         " Round of 16 second leg ",
         [
          "Paris Saint-Germain",
          "Dortmund",
          "Eintracht Frankfurt",
          "Liverpool",
          "Leipzig"
         ]
        ],
        [
         " Group stage: Matchday 4 ",
         [
          "Juventus",
          "Ajax",
          "Eintracht Frankfurt"
         ]
        ],
        [
         " Round of 16 first leg ",
         [
          "Chelsea",
          "Tottenham",
          "FC Porto"
         ]
        ],
        [
         " Group stage: Matchday 2 ",
         [
          "Ajax",
          "Atletico Madrid",
          "Barcelona",
          "Tottenham Hotspur",
          "RB Leipzig"
         ]
        ],
        [
         " Final ",
         [
          "Inter"
         ]
        ]
       ],
       "datasetInfos": [],
       "dbfsResultPath": null,
       "isJsonSchema": true,
       "metadata": {},
       "overflow": false,
       "plotOptions": {
        "customPlotOptions": {},
        "displayType": "table",
        "pivotAggregation": null,
        "pivotColumns": null,
        "xColumns": null,
        "yColumns": null
       },
       "removedWidgets": [],
       "schema": [
        {
         "metadata": "{}",
         "name": "STAGE",
         "type": "\"string\""
        },
        {
         "metadata": "{}",
         "name": "CASE WHEN (looser = away) THEN collect_list(TEAM_NAME_AWAY) ELSE collect_list(TEAM_NAME_HOME) END",
         "type": "{\"type\":\"array\",\"elementType\":\"string\",\"containsNull\":false}"
        }
       ],
       "type": "table"
      }
     },
     "output_type": "display_data"
    }
   ],
   "source": [
    "# df_22.display()\n",
    "\n",
    "#Vamos a agregar un columna para saber quien ha perdido cada partido\n",
    "df1 = df_22.withColumn(\"looser\",\n",
    "                       F.when(F.col(\"TEAM_HOME_SCORE\") > F.col(\"TEAM_AWAY_SCORE\"),\n",
    "                              \"away\")\n",
    "                       .otherwise(\n",
    "                         F.when(F.col(\"TEAM_HOME_SCORE\") < F.col(\"TEAM_AWAY_SCORE\"),\n",
    "                                \"home\").otherwise(\"any\")\n",
    "                       ))\n",
    "\n",
    "#nos olvidamos de los any(ya que han empatado)\n",
    "\n",
    "df1 = df1.filter(\n",
    "  F.col(\"looser\") != \"any\"\n",
    ")\n",
    "# Ahora que tenemos el looser de cada partido obtendremos los que han ganado mas enfrentamientos y aun asi han perdido el partido\n",
    "df1 = df1.select( \"*\",\n",
    "  (F.when(\n",
    "    (F.col(\"looser\") == \"away\"),\n",
    "    (F.split(F.col(\"DUELS_WON_AWAY\"), \"%\")[0]).cast(\"int\") > 50)\n",
    "  .otherwise(\n",
    "    (F.split(F.col(\"DUELS_WON_AWAY\"), \"%\")[0]).cast(\"int\") < 50)).alias(\"cumple\")\n",
    ")\n",
    "\n",
    "#Ahora tenemos una columna donde sabemos  los que cumplen la condicion, deberemos obtener los que son true para completar la consulta\n",
    "df1 = df1.filter(\n",
    "  F.col(\"cumple\") == True\n",
    ")\n",
    "# #Ya sabemos los que si cumplen, ahora debemos agrupar por stage y después convertir los equipos en una lista \n",
    "\n",
    "TEAM_WON_DUEL_LOST_GAME_STAGE_WISE_df = df1.groupBy(\n",
    "  \"STAGE\",\n",
    "  \"looser\"\n",
    ").agg(\n",
    "  F.when(\n",
    "    F.col(\"looser\") == \"away\",\n",
    "    F.collect_list(F.col(\"TEAM_NAME_AWAY\")))\n",
    "  .otherwise(F.collect_list(F.col(\"TEAM_NAME_HOME\")))\n",
    "  ).drop(F.col(\"looser\"))\n",
    "\n",
    "\n",
    "TEAM_WON_DUEL_LOST_GAME_STAGE_WISE_df.display()\n",
    "\n"
   ]
  },
  {
   "cell_type": "code",
   "execution_count": 0,
   "metadata": {
    "application/vnd.databricks.v1+cell": {
     "cellMetadata": {},
     "inputWidgets": {},
     "nuid": "3cc81b2b-e939-4286-93b3-4cfdecb56f2d",
     "showTitle": false,
     "tableResultSettingsMap": {},
     "title": ""
    }
   },
   "outputs": [],
   "source": []
  }
 ],
 "metadata": {
  "application/vnd.databricks.v1+notebook": {
   "dashboards": [],
   "environmentMetadata": null,
   "language": "python",
   "notebookMetadata": {
    "pythonIndentUnit": 4
   },
   "notebookName": "Caso_2",
   "widgets": {}
  }
 },
 "nbformat": 4,
 "nbformat_minor": 0
}
